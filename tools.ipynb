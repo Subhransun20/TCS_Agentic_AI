{
 "cells": [
  {
   "cell_type": "code",
   "execution_count": 130,
   "id": "4341d919",
   "metadata": {},
   "outputs": [],
   "source": [
    "from langchain_community.tools import WikipediaQueryRun"
   ]
  },
  {
   "cell_type": "code",
   "execution_count": 131,
   "id": "3c7f01e1",
   "metadata": {},
   "outputs": [],
   "source": [
    "from langchain_community.utilities import WikipediaAPIWrapper"
   ]
  },
  {
   "cell_type": "code",
   "execution_count": 132,
   "id": "2fdd72bc",
   "metadata": {},
   "outputs": [],
   "source": [
    "api_wrapper=WikipediaAPIWrapper(top_k_results=5,doc_content_chars_max= 500)"
   ]
  },
  {
   "cell_type": "code",
   "execution_count": 133,
   "id": "694ea1a8",
   "metadata": {},
   "outputs": [],
   "source": [
    "wiki_tool=WikipediaQueryRun(api_wrapper=api_wrapper)"
   ]
  },
  {
   "cell_type": "code",
   "execution_count": 134,
   "id": "8a450b4b",
   "metadata": {},
   "outputs": [
    {
     "data": {
      "text/plain": [
       "'wikipedia'"
      ]
     },
     "execution_count": 134,
     "metadata": {},
     "output_type": "execute_result"
    }
   ],
   "source": [
    "wiki_tool.name"
   ]
  },
  {
   "cell_type": "code",
   "execution_count": 135,
   "id": "0f46f450",
   "metadata": {},
   "outputs": [
    {
     "data": {
      "text/plain": [
       "'A wrapper around Wikipedia. Useful for when you need to answer general questions about people, places, companies, facts, historical events, or other subjects. Input should be a search query.'"
      ]
     },
     "execution_count": 135,
     "metadata": {},
     "output_type": "execute_result"
    }
   ],
   "source": [
    "wiki_tool.description"
   ]
  },
  {
   "cell_type": "code",
   "execution_count": 136,
   "id": "0aa4502c",
   "metadata": {},
   "outputs": [
    {
     "data": {
      "text/plain": [
       "{'query': {'description': 'query to look up on wikipedia',\n",
       "  'title': 'Query',\n",
       "  'type': 'string'}}"
      ]
     },
     "execution_count": 136,
     "metadata": {},
     "output_type": "execute_result"
    }
   ],
   "source": [
    "wiki_tool.args"
   ]
  },
  {
   "cell_type": "code",
   "execution_count": 137,
   "id": "99477475",
   "metadata": {},
   "outputs": [
    {
     "data": {
      "text/plain": [
       "\"Page: Elon Musk\\nSummary: Elon Reeve Musk  ( EE-lon; born June 28, 1971) is a businessman. He is known for his leadership of Tesla, SpaceX, X (formerly Twitter), and the Department of Government Efficiency (DOGE). Musk has been considered the wealthiest person in the world since 2021; as of May 2025, Forbes estimates his net worth to be US$424.7 billion. \\nBorn to a wealthy family in Pretoria, South Africa, Musk emigrated in 1989 to Canada. He received bachelor's degrees from the University of Pen\""
      ]
     },
     "execution_count": 137,
     "metadata": {},
     "output_type": "execute_result"
    }
   ],
   "source": [
    "wiki_tool.run({\"query\":\"elon musk\"})"
   ]
  },
  {
   "cell_type": "code",
   "execution_count": 138,
   "id": "bf3a63ed",
   "metadata": {},
   "outputs": [
    {
     "name": "stderr",
     "output_type": "stream",
     "text": [
      "c:\\Anaconda\\envs\\agentic_base_env\\lib\\site-packages\\wikipedia\\wikipedia.py:389: GuessedAtParserWarning: No parser was explicitly specified, so I'm using the best available HTML parser for this system (\"lxml\"). This usually isn't a problem, but if you run this code on another system, or in a different virtual environment, it may use a different parser and behave differently.\n",
      "\n",
      "The code that caused this warning is on line 389 of the file c:\\Anaconda\\envs\\agentic_base_env\\lib\\site-packages\\wikipedia\\wikipedia.py. To get rid of this warning, pass the additional argument 'features=\"lxml\"' to the BeautifulSoup constructor.\n",
      "\n",
      "  lis = BeautifulSoup(html).find_all('li')\n"
     ]
    },
    {
     "data": {
      "text/plain": [
       "\"Page: Royal Challengers Bengaluru\\nSummary: Royal Challengers Bengaluru, formerly Royal Challengers Bangalore, also known as RCB, are a professional Twenty20 cricket team based in Bengaluru, Karnataka, that competes in the Indian Premier League (IPL). Founded in 2008 by United Spirits, the team's home ground is M. Chinnaswamy Stadium. They won their first title in 2025. The team finished as the runners-up on three occasions: in 2009, 2011, and 2016. They have also qualified for the playoffs in te\""
      ]
     },
     "execution_count": 138,
     "metadata": {},
     "output_type": "execute_result"
    }
   ],
   "source": [
    "wiki_tool.run(\"RCB\")"
   ]
  },
  {
   "cell_type": "code",
   "execution_count": 139,
   "id": "a79c6cc6",
   "metadata": {},
   "outputs": [],
   "source": [
    "from langchain_community.tools import YouTubeSearchTool"
   ]
  },
  {
   "cell_type": "code",
   "execution_count": 140,
   "id": "c35d1810",
   "metadata": {},
   "outputs": [],
   "source": [
    "tool=YouTubeSearchTool()"
   ]
  },
  {
   "cell_type": "code",
   "execution_count": 141,
   "id": "3dfe8f0e",
   "metadata": {},
   "outputs": [
    {
     "data": {
      "text/plain": [
       "'youtube_search'"
      ]
     },
     "execution_count": 141,
     "metadata": {},
     "output_type": "execute_result"
    }
   ],
   "source": [
    "tool.name"
   ]
  },
  {
   "cell_type": "code",
   "execution_count": 142,
   "id": "31dd4376",
   "metadata": {},
   "outputs": [
    {
     "data": {
      "text/plain": [
       "'search for youtube videos associated with a person. the input to this tool should be a comma separated list, the first part contains a person name and the second a number that is the maximum number of video results to return aka num_results. the second part is optional'"
      ]
     },
     "execution_count": 142,
     "metadata": {},
     "output_type": "execute_result"
    }
   ],
   "source": [
    "tool.description"
   ]
  },
  {
   "cell_type": "code",
   "execution_count": 143,
   "id": "ed05eed1",
   "metadata": {},
   "outputs": [
    {
     "data": {
      "text/plain": [
       "\"['https://www.youtube.com/watch?v=-pqzyvRp3Tc&pp=ygUKQWdlbnRpYyBBSdIHCQnNCQGHKiGM7w%3D%3D', 'https://www.youtube.com/watch?v=EDb37y_MhRw&pp=ygUKQWdlbnRpYyBBSQ%3D%3D']\""
      ]
     },
     "execution_count": 143,
     "metadata": {},
     "output_type": "execute_result"
    }
   ],
   "source": [
    "tool.run(\"Agentic AI\")"
   ]
  },
  {
   "cell_type": "code",
   "execution_count": 144,
   "id": "21d809df",
   "metadata": {},
   "outputs": [],
   "source": [
    "from langchain_community.tools.tavily_search import TavilySearchResults"
   ]
  },
  {
   "cell_type": "code",
   "execution_count": 145,
   "id": "16ed7cac",
   "metadata": {},
   "outputs": [],
   "source": [
    "import os\n",
    "TAVLYN_API_KEY=os.getenv(\"TAVLYN_API_KEY\")"
   ]
  },
  {
   "cell_type": "code",
   "execution_count": 146,
   "id": "f745e41b",
   "metadata": {},
   "outputs": [],
   "source": [
    "tool=TavilySearchResults(tavily_api_key=TAVLYN_API_KEY)"
   ]
  },
  {
   "cell_type": "code",
   "execution_count": 147,
   "id": "42cf9b63",
   "metadata": {},
   "outputs": [
    {
     "data": {
      "text/plain": [
       "[{'title': 'From cheers to tears: Stampede at RCB victory celebration kills 11',\n",
       "  'url': 'https://m.economictimes.com/news/bengaluru-news/from-cheers-to-tears-stampede-at-rcb-victory-celebration-kills-11/articleshow/121630702.cms',\n",
       "  'content': \"Image 3: From Cheers to Tears: Stampede at RCB Victory Celebration Kills 11Reuters\\n\\nRoyal Challengers Bangalore's IPL victory celebrations event on Wednesday turned into a tragedy with at least 11 people losing their lives and about 47 others suffering injuries in a stampede outside the Chinnaswamy Stadium in Bengaluru.\\n\\nHundreds of thousands of people gathered outside the stadium as well as near the Vidhana Soudha where Karnataka chief minister Siddaramaiah felicitated the RCB stars. [...] Tragedy struck Bengaluru during Royal Challengers Bangalore's IPL victory celebrations as a stampede outside Chinnaswamy Stadium resulted in 11 fatalities and numerous injuries. Despite precautions, massive crowds overwhelmed the stadium, leading to the unfortunate incident. The Chief Minister has ordered a probe and announced compensation for the victims' families, expressing sorrow over the event. [...] While the event on the steps of Vidhana Soudha, the legislature building, went off peacefully, police could not control the swelling crowds seeking an entry into the stadium, the venue for a public reception for the team organised by the Karnataka State Cricket Association.\\n\\nEyewitnesses said it was free for all as crowds surged in massive numbers on roads leading to the stadium gates, causing stampedes at several places.\",\n",
       "  'score': 0.8649622},\n",
       " {'title': \"Several Killed as RCB's Victory Celebration Turns Deadly - YouTube\",\n",
       "  'url': 'https://www.youtube.com/watch?v=gz8chxY7elU',\n",
       "  'content': \"At least 11 people were killed and 30 injured in a stampede outside the Chinnaswamy cricket stadium in Bengaluru. The incident happened during the Royal Challengers' victory celebrations after their first IPL triumph in 18 years. Did the state government underestimate the rush? Were crowd control measures not in place? Palki Sharma tells you.\\n\\n--- [...] It was supposed to be a day of pure joy, of celebration and pride. Instead, Bengaluru is in shock today. I'm sure you've seen the news and the pictures. Bengaluru was all decked up for a massive celebration today. Their IPL team had finally won the tournament. The Royal Challengers beat Punjab Kings yesterday. It was their first IPL trophy in 18 years. Now the RCB fans are a very passionate lot. Plus they've been waiting for a win since 2008. So they packed the streets of Bengaluru in [...] soon the fan frenzy turned fatal. The exact details are not clear yet but reports say the rush led to a stampede. At least 11 people were killed, including children, and more than 30 were injured. Like I said, the exact sequence of events is unclear, but these pictures give you an idea. Uh you can see fans climbing up fences and trees. In some places, the police pushed back with force. We will show you the pictures, but as always, viewer discretion is advised. [Applause] [Music] [Applause] Such\",\n",
       "  'score': 0.83290404},\n",
       " {'title': \"Bengaluru stampede: 11 die as RCB's victory celebrations turn tragic\",\n",
       "  'url': 'https://www.youtube.com/watch?v=1W8MgyoI4Ck&pp=0gcJCfwAo7VqN5tD',\n",
       "  'content': \"### Description\\n16693 views\\nPosted: 4 Jun 2025\\nWhat began as a day of rapturous celebration over the IPL victory of Royal Challengers Bengaluru (RCB) turned into one of crushing tragedy in Bengaluru on Wednesday evening when 11 people -- all aged below 40 -- died and 33 were injured when a massive build up of fans at the M. Chinnaswamy Stadium led to chaos and stampede. #royalchallengersbangalore #bengaluru #rcb #ipl2025 [...] what was supposed to be a joyous celebration turned into a tragedy in [Music] Bengaluru on June 4th at least 11 people died while several more were injured after a stampede-like situation broke out during RCB's victory parade sounds of sirens constantly echoed through the roads as ambulances struggled to carry the injured to hospitals the injured persons were taken to Bowing Hospital in Shivajinagar and Vayhi Hospital on Mallaya road the death toll is expected to go [Music] up several people [...] were injured at the gates of the stadium where the cricket team was expected to turn up to [Music] celebrate people who gathered in front of Vidhan Saodha to see the government's felicitation ceremony were also crushed by the uncontrollable crowd while it was said that the victory parade would not happen due to security concerns a post from the RCB social media handle later said that the parade would happen as planned this confusion led to chaos among fans we are die hard RCB fans mumbai more\",\n",
       "  'score': 0.8312667},\n",
       " {'title': \"How did celebration of RCB's historic win in IPL spiral into chaos ...\",\n",
       "  'url': 'https://www.thehindu.com/news/national/karnataka/how-did-celebration-of-rcbs-historic-win-in-ipl-spiral-into-chaos-and-crisis-explained/article69668074.ece',\n",
       "  'content': 'A stampede during RCB’s victory celebrations in Bengaluru on June 4 claimed 11 lives and left several others with injuries, turning a moment of triumph into tragedy. Facing a backlash for mismanagement and hurried planning, the Congress government in Karnataka suspended top police officials [...] Published - June 07, 2025 04:45 pm IST\\n\\nImage 11: Darshan Devaiah B P \\n\\nDarshan Devaiah B.P.\\n\\n    Copy link \\n   Email\\n    Facebook \\n    Twitter \\n    Telegram \\n    LinkedIn \\n    WhatsApp \\n    Reddit \\n\\n0\\n\\nREAD LATER\\n\\n Remove SEE ALL\\n\\nPRINT\\n\\nImage 12: Footwear left behind by fans of Royal Challenge Bengaluru (RCB) after a stampede at the victory celebrations, in Bengaluru on June 5, 2025. [...] A senior officer told _The Hindu_ that police resources were thinly spread across four major events on the same day: RCB’s arrival at HAL airport, their transfer to the team hotel on Race Course Road, the government’s felicitation at Vidhana Soudha, and finally, the celebration at Chinnaswamy stadium.',\n",
       "  'score': 0.818055},\n",
       " {'title': 'RCB Victory Parade: Kohli Wins His Maiden IPL Title ... - YouTube',\n",
       "  'url': 'https://www.youtube.com/watch?v=M2JWZVPWGfY',\n",
       "  'content': 'As the champions parade through Bengaluru, the message is loud: India wins not just on the battlefield, but in the arena of sport — with pride, power, and passion. RCB’s victory is a reflection of India’s rise — strategic, smart, and unstoppable. And to the naysayers across the border: watch and weep — this is Indian cricket at its peak. Tune in LIVE for the grand celebration, the emotion, and the fire. This is not just a game. This is Indian domination. [...] History has been made. Bengaluru roars. And Virat Kohli leads from the front — not just with the bat, but as a symbol of Indian dominance. RCB has finally clinched the IPL 2025 Trophy, and the champions return to their fortress with unmatched glory. This isn’t just a victory — this is a statement. A decade of doubters silenced, a legacy sealed in fire and triumph. [...] From trolls to critics to Pakistan’s cricket propaganda — everything collapses in the face of this win. While Pakistan fails to qualify and sulks in excuses, India’s own Royal Challengers Bangalore have shown the world what real cricket supremacy looks like. No fixing. No fakery. Just raw Indian grit, brilliance, and boldness. Kohli, Dinesh Karthik, and the RCB squad have set the gold standard. While Pak celebrates memes, India celebrates trophies.',\n",
       "  'score': 0.6768127}]"
      ]
     },
     "execution_count": 147,
     "metadata": {},
     "output_type": "execute_result"
    }
   ],
   "source": [
    "tool.invoke({\"query\":\"what happend in RCB victory celebration?\"})"
   ]
  },
  {
   "cell_type": "code",
   "execution_count": 148,
   "id": "377e6c26",
   "metadata": {},
   "outputs": [
    {
     "name": "stdout",
     "output_type": "stream",
     "text": [
      "Requirement already satisfied: youtube-search-python in c:\\anaconda\\envs\\agentic_base_env\\lib\\site-packages (1.6.6)\n",
      "Requirement already satisfied: httpx>=0.14.2 in c:\\anaconda\\envs\\agentic_base_env\\lib\\site-packages (from youtube-search-python) (0.28.1)\n",
      "Requirement already satisfied: anyio in c:\\anaconda\\envs\\agentic_base_env\\lib\\site-packages (from httpx>=0.14.2->youtube-search-python) (4.9.0)\n",
      "Requirement already satisfied: certifi in c:\\anaconda\\envs\\agentic_base_env\\lib\\site-packages (from httpx>=0.14.2->youtube-search-python) (2025.6.15)\n",
      "Requirement already satisfied: httpcore==1.* in c:\\anaconda\\envs\\agentic_base_env\\lib\\site-packages (from httpx>=0.14.2->youtube-search-python) (1.0.9)\n",
      "Requirement already satisfied: idna in c:\\anaconda\\envs\\agentic_base_env\\lib\\site-packages (from httpx>=0.14.2->youtube-search-python) (3.10)\n",
      "Requirement already satisfied: h11>=0.16 in c:\\anaconda\\envs\\agentic_base_env\\lib\\site-packages (from httpcore==1.*->httpx>=0.14.2->youtube-search-python) (0.16.0)\n",
      "Requirement already satisfied: exceptiongroup>=1.0.2 in c:\\anaconda\\envs\\agentic_base_env\\lib\\site-packages (from anyio->httpx>=0.14.2->youtube-search-python) (1.3.0)\n",
      "Requirement already satisfied: sniffio>=1.1 in c:\\anaconda\\envs\\agentic_base_env\\lib\\site-packages (from anyio->httpx>=0.14.2->youtube-search-python) (1.3.1)\n",
      "Requirement already satisfied: typing_extensions>=4.5 in c:\\anaconda\\envs\\agentic_base_env\\lib\\site-packages (from anyio->httpx>=0.14.2->youtube-search-python) (4.14.0)\n",
      "Requirement already satisfied: youtube-search in c:\\anaconda\\envs\\agentic_base_env\\lib\\site-packages (2.1.2)\n",
      "Requirement already satisfied: requests in c:\\anaconda\\envs\\agentic_base_env\\lib\\site-packages (from youtube-search) (2.32.4)\n",
      "Requirement already satisfied: charset_normalizer<4,>=2 in c:\\anaconda\\envs\\agentic_base_env\\lib\\site-packages (from requests->youtube-search) (3.4.2)\n",
      "Requirement already satisfied: idna<4,>=2.5 in c:\\anaconda\\envs\\agentic_base_env\\lib\\site-packages (from requests->youtube-search) (3.10)\n",
      "Requirement already satisfied: urllib3<3,>=1.21.1 in c:\\anaconda\\envs\\agentic_base_env\\lib\\site-packages (from requests->youtube-search) (2.5.0)\n",
      "Requirement already satisfied: certifi>=2017.4.17 in c:\\anaconda\\envs\\agentic_base_env\\lib\\site-packages (from requests->youtube-search) (2025.6.15)\n"
     ]
    }
   ],
   "source": [
    "! pip install youtube-search-python\n",
    "! pip install youtube-search\n"
   ]
  },
  {
   "cell_type": "markdown",
   "id": "c1e3cd34",
   "metadata": {},
   "source": [
    "## Custom_tool"
   ]
  },
  {
   "cell_type": "code",
   "execution_count": 149,
   "id": "0058a3af",
   "metadata": {},
   "outputs": [],
   "source": [
    "def multiply(a:int,b:int)->int:\n",
    "    return a*b"
   ]
  },
  {
   "cell_type": "code",
   "execution_count": 150,
   "id": "2fd727eb",
   "metadata": {},
   "outputs": [
    {
     "data": {
      "text/plain": [
       "200"
      ]
     },
     "execution_count": 150,
     "metadata": {},
     "output_type": "execute_result"
    }
   ],
   "source": [
    "multiply(10,20)"
   ]
  },
  {
   "cell_type": "code",
   "execution_count": 151,
   "id": "913cc79c",
   "metadata": {},
   "outputs": [],
   "source": [
    "#multiply.run(10,20)"
   ]
  },
  {
   "cell_type": "code",
   "execution_count": 152,
   "id": "c8864bb2",
   "metadata": {},
   "outputs": [],
   "source": [
    "#multiply.invoke(10,20)"
   ]
  },
  {
   "cell_type": "code",
   "execution_count": 153,
   "id": "3a3665bc",
   "metadata": {},
   "outputs": [],
   "source": [
    "from langchain.agents import tool\n",
    "@tool\n",
    "def multiply(a:int,b:int)->int:\n",
    "    '''this tool is for the multiplication'''\n",
    "    return a*b"
   ]
  },
  {
   "cell_type": "code",
   "execution_count": 154,
   "id": "50306c92",
   "metadata": {},
   "outputs": [
    {
     "data": {
      "text/plain": [
       "200"
      ]
     },
     "execution_count": 154,
     "metadata": {},
     "output_type": "execute_result"
    }
   ],
   "source": [
    "multiply.invoke({\"a\":10,\"b\":20})"
   ]
  },
  {
   "cell_type": "code",
   "execution_count": 155,
   "id": "5ca800ff",
   "metadata": {},
   "outputs": [
    {
     "data": {
      "text/plain": [
       "'multiply'"
      ]
     },
     "execution_count": 155,
     "metadata": {},
     "output_type": "execute_result"
    }
   ],
   "source": [
    "multiply.name"
   ]
  },
  {
   "cell_type": "code",
   "execution_count": 156,
   "id": "8978a8c9",
   "metadata": {},
   "outputs": [
    {
     "data": {
      "text/plain": [
       "'this tool is for the multiplication'"
      ]
     },
     "execution_count": 156,
     "metadata": {},
     "output_type": "execute_result"
    }
   ],
   "source": [
    "multiply.description"
   ]
  },
  {
   "cell_type": "code",
   "execution_count": 157,
   "id": "6a41b532",
   "metadata": {},
   "outputs": [
    {
     "data": {
      "text/plain": [
       "{'a': {'title': 'A', 'type': 'integer'},\n",
       " 'b': {'title': 'B', 'type': 'integer'}}"
      ]
     },
     "execution_count": 157,
     "metadata": {},
     "output_type": "execute_result"
    }
   ],
   "source": [
    "multiply.args"
   ]
  },
  {
   "cell_type": "code",
   "execution_count": 158,
   "id": "6de152ea",
   "metadata": {},
   "outputs": [],
   "source": [
    "def get_word_length(word:str)->int:\n",
    "    return len(word)"
   ]
  },
  {
   "cell_type": "code",
   "execution_count": 160,
   "id": "6a65a42f",
   "metadata": {},
   "outputs": [
    {
     "data": {
      "text/plain": [
       "12"
      ]
     },
     "execution_count": 160,
     "metadata": {},
     "output_type": "execute_result"
    }
   ],
   "source": [
    "get_word_length(\"naredra modi\")"
   ]
  },
  {
   "cell_type": "code",
   "execution_count": 161,
   "id": "93dccd5e",
   "metadata": {},
   "outputs": [],
   "source": [
    "@tool\n",
    "def get_word_length(word:str)->int:\n",
    "    \"\"\"this funtion is calculating a length of the word\"\"\"\n",
    "    return len(word)"
   ]
  },
  {
   "cell_type": "code",
   "execution_count": 162,
   "id": "1292db4b",
   "metadata": {},
   "outputs": [
    {
     "data": {
      "text/plain": [
       "'get_word_length'"
      ]
     },
     "execution_count": 162,
     "metadata": {},
     "output_type": "execute_result"
    }
   ],
   "source": [
    "get_word_length.name"
   ]
  },
  {
   "cell_type": "code",
   "execution_count": 163,
   "id": "309a3ab7",
   "metadata": {},
   "outputs": [
    {
     "data": {
      "text/plain": [
       "'this funtion is calculating a length of the word'"
      ]
     },
     "execution_count": 163,
     "metadata": {},
     "output_type": "execute_result"
    }
   ],
   "source": [
    "get_word_length.description"
   ]
  },
  {
   "cell_type": "code",
   "execution_count": 164,
   "id": "375b13d8",
   "metadata": {},
   "outputs": [
    {
     "data": {
      "text/plain": [
       "{'word': {'title': 'Word', 'type': 'string'}}"
      ]
     },
     "execution_count": 164,
     "metadata": {},
     "output_type": "execute_result"
    }
   ],
   "source": [
    "get_word_length.args"
   ]
  },
  {
   "cell_type": "code",
   "execution_count": 165,
   "id": "fcdfeefe",
   "metadata": {},
   "outputs": [
    {
     "data": {
      "text/plain": [
       "34"
      ]
     },
     "execution_count": 165,
     "metadata": {},
     "output_type": "execute_result"
    }
   ],
   "source": [
    "get_word_length(\"TATA Consultancy Services  Limited\")"
   ]
  },
  {
   "cell_type": "code",
   "execution_count": 166,
   "id": "da04955e",
   "metadata": {},
   "outputs": [
    {
     "data": {
      "text/plain": [
       "18"
      ]
     },
     "execution_count": 166,
     "metadata": {},
     "output_type": "execute_result"
    }
   ],
   "source": [
    "get_word_length.invoke(\"UBS Wealth Manager\")"
   ]
  },
  {
   "cell_type": "code",
   "execution_count": 167,
   "id": "87bb9160",
   "metadata": {},
   "outputs": [],
   "source": [
    "@tool\n",
    "def call_gamil_api(args):\n",
    "    \"\"\"this is my gamil api calling funtion\"\"\"\n",
    "    pass"
   ]
  }
 ],
 "metadata": {
  "kernelspec": {
   "display_name": "agentic_base_env",
   "language": "python",
   "name": "python3"
  },
  "language_info": {
   "codemirror_mode": {
    "name": "ipython",
    "version": 3
   },
   "file_extension": ".py",
   "mimetype": "text/x-python",
   "name": "python",
   "nbconvert_exporter": "python",
   "pygments_lexer": "ipython3",
   "version": "3.10.18"
  }
 },
 "nbformat": 4,
 "nbformat_minor": 5
}
